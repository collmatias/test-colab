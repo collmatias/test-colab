{
  "nbformat": 4,
  "nbformat_minor": 0,
  "metadata": {
    "colab": {
      "provenance": [],
      "authorship_tag": "ABX9TyMxtQm9RAOD+13Hh7NecZaw",
      "include_colab_link": true
    },
    "kernelspec": {
      "name": "python3",
      "display_name": "Python 3"
    },
    "language_info": {
      "name": "python"
    }
  },
  "cells": [
    {
      "cell_type": "markdown",
      "metadata": {
        "id": "view-in-github",
        "colab_type": "text"
      },
      "source": [
        "<a href=\"https://colab.research.google.com/github/collmatias/test-colab/blob/main/template.ipynb\" target=\"_parent\"><img src=\"https://colab.research.google.com/assets/colab-badge.svg\" alt=\"Open In Colab\"/></a>"
      ]
    },
    {
      "cell_type": "code",
      "execution_count": 2,
      "metadata": {
        "colab": {
          "base_uri": "https://localhost:8080/"
        },
        "id": "dwz-gn7uAIDJ",
        "outputId": "a1085cfc-9e9e-4f6b-bc0a-6378ea1b95ca"
      },
      "outputs": [
        {
          "output_type": "stream",
          "name": "stdout",
          "text": [
            "Helo World!\n"
          ]
        }
      ],
      "source": [
        "print(\"Helo World!\")"
      ]
    },
    {
      "cell_type": "code",
      "source": [
        "print(\"Helo World!\")"
      ],
      "metadata": {
        "id": "B45gG_IMBz_C",
        "outputId": "631d3bb0-5eb5-4609-cb5c-fa0f6c36bd14",
        "colab": {
          "base_uri": "https://localhost:8080/"
        }
      },
      "execution_count": 3,
      "outputs": [
        {
          "output_type": "stream",
          "name": "stdout",
          "text": [
            "Helo World!\n"
          ]
        }
      ]
    },
    {
      "cell_type": "code",
      "source": [],
      "metadata": {
        "id": "i_jEzFcBB1EW"
      },
      "execution_count": null,
      "outputs": []
    }
  ]
}